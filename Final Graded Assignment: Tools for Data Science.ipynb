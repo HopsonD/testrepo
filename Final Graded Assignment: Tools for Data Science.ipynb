{
    "cells": [
        {
            "cell_type": "markdown",
            "metadata": {
                "collapsed": true
            },
            "source": "# \"My Jupyter Notebook on IBM Watson Studio\""
        },
        {
            "cell_type": "markdown",
            "metadata": {},
            "source": "__Zakery Hopson Davis__\nDOD Intelligence Analyst"
        },
        {
            "cell_type": "markdown",
            "metadata": {},
            "source": "_I am persuing my BS in Computer Science. Data Science is not to far from what I do now. I think data science would be a challenging move upward in my career._"
        },
        {
            "cell_type": "markdown",
            "metadata": {},
            "source": "### My code in cell 5 shows an example of an if else statement."
        },
        {
            "cell_type": "code",
            "execution_count": 1,
            "metadata": {},
            "outputs": [
                {
                    "name": "stdout",
                    "output_type": "stream",
                    "text": "It's not a hot day\n"
                }
            ],
            "source": "temperature = 30\n\nif temperature > 30:\n    print(\"It's a hot day\")\n\nelse:\n    print(\"It's not a hot day\")"
        },
        {
            "cell_type": "markdown",
            "metadata": {},
            "source": "-  This is a bullet\n-  This a second bullet\n-  This my third bullet\n\n1.  Numbered item\n2.  Numbered item\n3.  Numbered item\n\n~~Strikethrough~~\n\n\n\n"
        }
    ],
    "metadata": {
        "kernelspec": {
            "display_name": "Python 3.9",
            "language": "python",
            "name": "python3"
        },
        "language_info": {
            "codemirror_mode": {
                "name": "ipython",
                "version": 3
            },
            "file_extension": ".py",
            "mimetype": "text/x-python",
            "name": "python",
            "nbconvert_exporter": "python",
            "pygments_lexer": "ipython3",
            "version": "3.9.7"
        }
    },
    "nbformat": 4,
    "nbformat_minor": 1
}